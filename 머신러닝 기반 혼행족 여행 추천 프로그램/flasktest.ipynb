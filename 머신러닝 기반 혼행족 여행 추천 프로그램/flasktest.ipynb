{
 "cells": [
  {
   "cell_type": "code",
   "execution_count": 1,
   "metadata": {
    "ExecuteTime": {
     "end_time": "2020-10-12T03:14:13.018478Z",
     "start_time": "2020-10-12T03:14:11.231337Z"
    },
    "scrolled": true
   },
   "outputs": [
    {
     "name": "stdout",
     "output_type": "stream",
     "text": [
      "Requirement already satisfied: Flask in c:\\users\\sm126\\anaconda3\\lib\\site-packages (1.1.1)\n",
      "Requirement already satisfied: itsdangerous>=0.24 in c:\\users\\sm126\\anaconda3\\lib\\site-packages (from Flask) (1.1.0)\n",
      "Requirement already satisfied: Werkzeug>=0.15 in c:\\users\\sm126\\anaconda3\\lib\\site-packages (from Flask) (1.0.0)\n",
      "Requirement already satisfied: Jinja2>=2.10.1 in c:\\users\\sm126\\anaconda3\\lib\\site-packages (from Flask) (2.11.1)\n",
      "Requirement already satisfied: click>=5.1 in c:\\users\\sm126\\anaconda3\\lib\\site-packages (from Flask) (7.0)\n",
      "Requirement already satisfied: MarkupSafe>=0.23 in c:\\users\\sm126\\anaconda3\\lib\\site-packages (from Jinja2>=2.10.1->Flask) (1.1.1)\n",
      "Note: you may need to restart the kernel to use updated packages.\n"
     ]
    }
   ],
   "source": [
    "pip install Flask"
   ]
  },
  {
   "cell_type": "code",
   "execution_count": 1,
   "metadata": {
    "ExecuteTime": {
     "end_time": "2020-10-12T11:46:03.363497Z",
     "start_time": "2020-10-12T10:00:37.910349Z"
    },
    "scrolled": true
   },
   "outputs": [
    {
     "name": "stdout",
     "output_type": "stream",
     "text": [
      " * Serving Flask app \"__main__\" (lazy loading)\n",
      " * Environment: production\n",
      "   WARNING: This is a development server. Do not use it in a production deployment.\n",
      "   Use a production WSGI server instead.\n",
      " * Debug mode: off\n"
     ]
    },
    {
     "name": "stderr",
     "output_type": "stream",
     "text": [
      " * Running on http://localhost:9000/ (Press CTRL+C to quit)\n",
      "127.0.0.1 - - [12/Oct/2020 19:02:12] \"\u001b[32mGET /?id=patric%40gmail.com HTTP/1.1\u001b[0m\" 302 -\n",
      "127.0.0.1 - - [12/Oct/2020 19:02:20] \"\u001b[32mGET /?id=patric%40gmail.com HTTP/1.1\u001b[0m\" 302 -\n",
      "127.0.0.1 - - [12/Oct/2020 19:02:30] \"\u001b[32mGET /?id=patric%40gmail.com HTTP/1.1\u001b[0m\" 302 -\n",
      "127.0.0.1 - - [12/Oct/2020 19:02:38] \"\u001b[32mGET /?id=patric%40gmail.com HTTP/1.1\u001b[0m\" 302 -\n"
     ]
    },
    {
     "data": {
      "image/png": "[encoded data removed]",
      "text/plain": [
       "<Figure size 432x288 with 1 Axes>"
      ]
     },
     "metadata": {
      "needs_background": "light"
     },
     "output_type": "display_data"
    }
   ],
   "source": [
    "from flask import request , redirect , Flask\n",
    "import pandas as pd\n",
    "import matplotlib.pyplot as plt\n",
    "import seaborn as sns\n",
    "import numpy as np\n",
    "import random as rd\n",
    "import urllib\n",
    "\n",
    "#차원축소\n",
    "from sklearn.manifold import MDS\n",
    "\n",
    "#군집\n",
    "from sklearn.cluster import KMeans\n",
    "\n",
    "#군집 시각화\n",
    "from scipy.spatial.distance import cdist\n",
    "\n",
    "#위도 경도 거리계산\n",
    "from haversine import haversine\n",
    "\n",
    "# DB 연결\n",
    "import cx_Oracle\n",
    "import pandas as pd\n",
    "\n",
    "\n",
    "app = Flask(__name__)\n",
    "@app.route(\"/\")\n",
    "def hello():\n",
    "    z=request.args.get('id')\n",
    "    z=urllib.parse.unquote(\"{}\".format(z))\n",
    "    q=z\n",
    "    z=\"'{}'\".format(z)\n",
    "    dsn = cx_Oracle.makedsn(\"phil87.cfxt9kqdcbog.ap-northeast-2.rds.amazonaws.com\",1521,\"orcl\")\n",
    "    db = cx_Oracle.connect(\"phil87\",\"phil1234!\",dsn)\n",
    "    cursor = db.cursor()\n",
    "    cursor.execute(\"select p_num, p_name, coordinate_x, coordinate_y, mountain, beach, town, exotic, healing, activity, hotspot, beverage, food, history, walkbicycle, drivebike, play, shopping, pet, festival from place WHERE PICK>70 ORDER BY PICK DESC\")\n",
    "    x = cursor.fetchall()\n",
    "    place_data = pd.DataFrame(x)\n",
    "    col = ['p_num', 'p_name','coordinate_x','coordinate_y','mountain','beach','town','exotic','healing','activity','hotspot','beverage','food','history','walkbicycle','drivebike','play','shopping','pet','festival']\n",
    "    place_data.columns=col\n",
    "    sql = \"select m_num, m_name, age, ranks, mountain, beach, town, exotic, healing, activity, hotspot, beverage, food, history, walkbicycle, drivebike, play, shopping, pet, festival from member where m_email={}\".format(z)\n",
    "    cursor1 = db.cursor()\n",
    "    cursor1.execute(sql)\n",
    "    x1 = cursor1.fetchall()\n",
    "    member_data = pd.DataFrame(x1)\n",
    "    col = ['p_num', 'p_name','coordinate_x','coordinate_y','mountain','beach','town','exotic','healing','activity','hotspot','beverage','food','history','walkbicycle','drivebike','play','shopping','pet','festival']\n",
    "    member_data.columns = col\n",
    "    place_data = place_data.iloc[:100,:] #데이터 크기에따라서 행 개수 결정\n",
    "    tt_data = place_data.append(member_data)\n",
    "    embedding = MDS(n_components=2)\n",
    "    tt_transformed = embedding.fit_transform(tt_data.iloc[:, 4:])\n",
    "    tt_transformed\n",
    "    plt.scatter(tt_transformed[:,0],tt_transformed[:,1])\n",
    "    kmeans = KMeans(n_clusters=3) #n개 군집으로 나눈 n_clusters\n",
    "    kmeans.fit(tt_transformed) # 훈련\n",
    "    tt_data['grade'] = kmeans.labels_\n",
    "    grade_list = []\n",
    "    grade_list_spot =[]\n",
    "\n",
    "    for i in range(tt_data.shape[0]-1):\n",
    "        if tt_data.iloc[-1, -1] == tt_data.iloc[i,-1]:\n",
    "            #뽑는 값 변화\n",
    "            grade_list.append(tt_data.iloc[i,0])\n",
    "            grade_list_spot.append(tt_data.iloc[i,2:4])\n",
    "    sql = \"select period from member where m_email = {}\".format(z)\n",
    "    cursor2 = db.cursor()\n",
    "    cursor2.execute(sql)\n",
    "    period = cursor2.fetchall()\n",
    "    period=int(str(period[0]).replace('(','').replace(')','').replace(',','').replace(\"'\",''))\n",
    "\n",
    "    if period == 0:\n",
    "        rd_spot1 = rd.sample(grade_list, 3)\n",
    "        rd_spot_df = pd.DataFrame(rd_spot1)\n",
    "    if period == 1:\n",
    "        rd_spot1 = rd.sample(grade_list, 5)\n",
    "        rd_spot_df = pd.DataFrame(rd_spot1)\n",
    "    if period == 2:\n",
    "        rd_spot1 = rd.sample(grade_list, 8)\n",
    "        rd_spot_df = pd.DataFrame(rd_spot1)\n",
    "    if period == 3:\n",
    "        rd_spot1 = rd.sample(grade_list, 11)\n",
    "        rd_spot_df = pd.DataFrame(rd_spot1)\n",
    "    if period == 4:\n",
    "        rd_spot1 = rd.sample(grade_list, 14)\n",
    "        rd_spot_df = pd.DataFrame(rd_spot1)\n",
    "    if period == 5:\n",
    "        rd_spot1 = rd.sample(grade_list, 17)\n",
    "        rd_spot_df = pd.DataFrame(rd_spot1)\n",
    "\n",
    "    rd_spot_result = rd_spot_df\n",
    "        \n",
    "    recommend_spot = []\n",
    "    rd_spot_result = rd_spot_df.applymap(str)\n",
    "    for i in range(rd_spot_df.shape[0]):\n",
    "        recommend_spot.append(rd_spot_result.iloc[i,:] + '-')\n",
    "    sql = \"update member set suggestion = '' where m_email = {}\".format(z)\n",
    "    cursor3 = db.cursor()\n",
    "    cursor3.execute(sql)\n",
    "    db.commit()\n",
    "    rows=[tuple(x)for x in rd_spot_df.to_records(index=False)]\n",
    "    cursor4 = db.cursor()\n",
    "    for i in range(len(rows)):\n",
    "        k = str(rows[i]).replace(',','').replace('(','').replace(')','') + '-'\n",
    "        sql = \"update member set suggestion = suggestion||:1 where m_email =:2\"\n",
    "        cursor4.execute(sql,(k ,q))\n",
    "    db.commit()\n",
    "\n",
    "    \n",
    "    \n",
    "    return redirect('http://localhost:8087/newbida/period.jsp')\n",
    "\n",
    "\n",
    "\n",
    "if __name__ == \"__main__\":\n",
    "    app.run(host=\"localhost\",port=\"9000\")"
   ]
  },
  {
   "cell_type": "code",
   "execution_count": null,
   "metadata": {},
   "outputs": [],
   "source": []
  }
 ],
 "metadata": {
  "kernelspec": {
   "display_name": "Python 3",
   "language": "python",
   "name": "python3"
  },
  "language_info": {
   "codemirror_mode": {
    "name": "ipython",
    "version": 3
   },
   "file_extension": ".py",
   "mimetype": "text/x-python",
   "name": "python",
   "nbconvert_exporter": "python",
   "pygments_lexer": "ipython3",
   "version": "3.6.12"
  },
  "varInspector": {
   "cols": {
    "lenName": 16,
    "lenType": 16,
    "lenVar": 40
   },
   "kernels_config": {
    "python": {
     "delete_cmd_postfix": "",
     "delete_cmd_prefix": "del ",
     "library": "var_list.py",
     "varRefreshCmd": "print(var_dic_list())"
    },
    "r": {
     "delete_cmd_postfix": ") ",
     "delete_cmd_prefix": "rm(",
     "library": "var_list.r",
     "varRefreshCmd": "cat(var_dic_list()) "
    }
   },
   "types_to_exclude": [
    "module",
    "function",
    "builtin_function_or_method",
    "instance",
    "_Feature"
   ],
   "window_display": false
  }
 },
 "nbformat": 4,
 "nbformat_minor": 4
}
